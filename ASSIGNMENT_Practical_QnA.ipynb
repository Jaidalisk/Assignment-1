{
  "nbformat": 4,
  "nbformat_minor": 0,
  "metadata": {
    "colab": {
      "provenance": []
    },
    "kernelspec": {
      "name": "python3",
      "display_name": "Python 3"
    },
    "language_info": {
      "name": "python"
    }
  },
  "cells": [
    {
      "cell_type": "markdown",
      "source": [
        "Write a Python program to print \"Hello, World!"
      ],
      "metadata": {
        "id": "z_c-5M2-_yXD"
      }
    },
    {
      "cell_type": "code",
      "source": [
        "print(\"Hello, World!\")\n"
      ],
      "metadata": {
        "colab": {
          "base_uri": "https://localhost:8080/"
        },
        "id": "EIFUwZ7v_1qq",
        "outputId": "ee59376a-3050-4a65-8cb8-42e721657537"
      },
      "execution_count": 1,
      "outputs": [
        {
          "output_type": "stream",
          "name": "stdout",
          "text": [
            "Hello, World!\n"
          ]
        }
      ]
    },
    {
      "cell_type": "markdown",
      "source": [
        "Write a Python program that displays your name and age0"
      ],
      "metadata": {
        "id": "9Tmfjfqz_1Wy"
      }
    },
    {
      "cell_type": "code",
      "source": [
        "name = \"JAIDALI SHAIKH\"\n",
        "age = 25\n",
        "print(f\"Name: {name}, Age: {age}\")\n"
      ],
      "metadata": {
        "colab": {
          "base_uri": "https://localhost:8080/"
        },
        "id": "Pusfn14s_-bC",
        "outputId": "16f3acbc-635e-4d90-c894-99eca69c83ea"
      },
      "execution_count": 2,
      "outputs": [
        {
          "output_type": "stream",
          "name": "stdout",
          "text": [
            "Name: JAIDALI SHAIKH, Age: 25\n"
          ]
        }
      ]
    },
    {
      "cell_type": "markdown",
      "source": [
        "Write code to print all the pre-defined keywords in Python using the keyword library"
      ],
      "metadata": {
        "id": "41r90awfAJAK"
      }
    },
    {
      "cell_type": "code",
      "source": [
        "import keyword\n",
        "print(\"Python Keywords:\", keyword.kwlist)\n"
      ],
      "metadata": {
        "colab": {
          "base_uri": "https://localhost:8080/"
        },
        "id": "p1yw9SimALFb",
        "outputId": "bb00a9a1-f1d1-4a4b-c2e7-bf228ea524b5"
      },
      "execution_count": 3,
      "outputs": [
        {
          "output_type": "stream",
          "name": "stdout",
          "text": [
            "Python Keywords: ['False', 'None', 'True', 'and', 'as', 'assert', 'async', 'await', 'break', 'class', 'continue', 'def', 'del', 'elif', 'else', 'except', 'finally', 'for', 'from', 'global', 'if', 'import', 'in', 'is', 'lambda', 'nonlocal', 'not', 'or', 'pass', 'raise', 'return', 'try', 'while', 'with', 'yield']\n"
          ]
        }
      ]
    },
    {
      "cell_type": "markdown",
      "source": [
        "Write a program that checks if a given word is a Python keyword"
      ],
      "metadata": {
        "id": "UMNjfAAsATHi"
      }
    },
    {
      "cell_type": "code",
      "source": [
        "import keyword\n",
        "\n",
        "word = input(\"Enter a word to check if it's a Python keyword: \")\n",
        "\n",
        "if keyword.iskeyword(word):\n",
        "    print(f\"'{word}' is a Python keyword.\")\n",
        "else:\n",
        "    print(f\"'{word}' is NOT a Python keyword.\")\n"
      ],
      "metadata": {
        "colab": {
          "base_uri": "https://localhost:8080/"
        },
        "id": "Xovv4mltAWbA",
        "outputId": "b0560395-1137-48eb-9d6e-2a7b56473b07"
      },
      "execution_count": 4,
      "outputs": [
        {
          "output_type": "stream",
          "name": "stdout",
          "text": [
            "Enter a word to check if it's a Python keyword: YES\n",
            "'YES' is NOT a Python keyword.\n"
          ]
        }
      ]
    },
    {
      "cell_type": "markdown",
      "source": [
        "Create a list and tuple in Python, and demonstrate how attempting to change an element works differently\n",
        "for each"
      ],
      "metadata": {
        "id": "O6eyHxQkAif7"
      }
    },
    {
      "cell_type": "code",
      "source": [
        "# Creating a list and a tuple\n",
        "my_list = [1, 2, 3, 4]\n",
        "my_tuple = (1, 2, 3, 4)\n",
        "\n",
        "# Trying to change an element in the list\n",
        "my_list[0] = 10\n",
        "print(\"List after change:\", my_list)\n",
        "\n",
        "# Trying to change an element in the tuple (this will cause an error)\n",
        "try:\n",
        "    my_tuple[0] = 10\n",
        "except TypeError as e:\n",
        "    print(\"Error while changing tuple element:\", e)\n"
      ],
      "metadata": {
        "colab": {
          "base_uri": "https://localhost:8080/"
        },
        "id": "ZwURpDkkAjvJ",
        "outputId": "b6afeb1a-55fc-4112-e492-b0de6e9eacfe"
      },
      "execution_count": 5,
      "outputs": [
        {
          "output_type": "stream",
          "name": "stdout",
          "text": [
            "List after change: [10, 2, 3, 4]\n",
            "Error while changing tuple element: 'tuple' object does not support item assignment\n"
          ]
        }
      ]
    },
    {
      "cell_type": "markdown",
      "source": [
        "Write a function to demonstrate the behavior of mutable and immutable arguments"
      ],
      "metadata": {
        "id": "3HZdIdIrAsFS"
      }
    },
    {
      "cell_type": "code",
      "source": [
        "def demonstrate_mutable_immutable(mutable_arg, immutable_arg):\n",
        "    # Modifying mutable argument (list)\n",
        "    mutable_arg.append(4)\n",
        "\n",
        "    # Modifying immutable argument (string)\n",
        "    immutable_arg = \"Changed String\"\n",
        "\n",
        "    print(f\"Mutable argument after modification: {mutable_arg}\")\n",
        "    print(f\"Immutable argument after modification: {immutable_arg}\")\n",
        "\n",
        "# Calling the function with mutable and immutable arguments\n",
        "mutable_list = [1, 2, 3]\n",
        "immutable_string = \"Original String\"\n",
        "demonstrate_mutable_immutable(mutable_list, immutable_string)\n",
        "\n",
        "# Checking the original variables\n",
        "print(f\"Original mutable list: {mutable_list}\")\n",
        "print(f\"Original immutable string: {immutable_string}\")\n"
      ],
      "metadata": {
        "colab": {
          "base_uri": "https://localhost:8080/"
        },
        "id": "abMcNLK_Av9t",
        "outputId": "b92a41a7-e60b-4d2d-fa16-c454c2265a82"
      },
      "execution_count": 6,
      "outputs": [
        {
          "output_type": "stream",
          "name": "stdout",
          "text": [
            "Mutable argument after modification: [1, 2, 3, 4]\n",
            "Immutable argument after modification: Changed String\n",
            "Original mutable list: [1, 2, 3, 4]\n",
            "Original immutable string: Original String\n"
          ]
        }
      ]
    },
    {
      "cell_type": "markdown",
      "source": [
        "Write a function to demonstrate the behavior of mutable and immutable arguments"
      ],
      "metadata": {
        "id": "fF6CszNLA4TK"
      }
    },
    {
      "cell_type": "code",
      "source": [
        "def demonstrate_mutable_immutable(mutable_arg, immutable_arg):\n",
        "    # Modifying mutable argument (list)\n",
        "    mutable_arg.append(4)\n",
        "\n",
        "    # Modifying immutable argument (string)\n",
        "    immutable_arg = \"Changed String\"\n",
        "\n",
        "    print(f\"Mutable argument after modification: {mutable_arg}\")\n",
        "    print(f\"Immutable argument after modification: {immutable_arg}\")\n",
        "\n",
        "# Calling the function with mutable and immutable arguments\n",
        "mutable_list = [1, 2, 3]\n",
        "immutable_string = \"Original String\"\n",
        "demonstrate_mutable_immutable(mutable_list, immutable_string)\n",
        "\n",
        "# Checking the original variables\n",
        "print(f\"Original mutable list: {mutable_list}\")\n",
        "print(f\"Original immutable string: {immutable_string}\")"
      ],
      "metadata": {
        "colab": {
          "base_uri": "https://localhost:8080/"
        },
        "id": "rumTaRTUA6UR",
        "outputId": "2d0d5833-5a2c-4b50-fb25-f787e9b3e03d"
      },
      "execution_count": 8,
      "outputs": [
        {
          "output_type": "stream",
          "name": "stdout",
          "text": [
            "Mutable argument after modification: [1, 2, 3, 4]\n",
            "Immutable argument after modification: Changed String\n",
            "Original mutable list: [1, 2, 3, 4]\n",
            "Original immutable string: Original String\n"
          ]
        }
      ]
    },
    {
      "cell_type": "markdown",
      "source": [
        "Write a program to demonstrate the use of logical operators"
      ],
      "metadata": {
        "id": "7dyb2Pq9BLOC"
      }
    },
    {
      "cell_type": "code",
      "source": [
        "a = True\n",
        "b = False\n",
        "\n",
        "print(\"a AND b:\", a and b)\n",
        "print(\"a OR b:\", a or b)\n",
        "print(\"NOT a:\", not a)\n"
      ],
      "metadata": {
        "colab": {
          "base_uri": "https://localhost:8080/"
        },
        "id": "aUC1AIukBEzq",
        "outputId": "d8a01f27-1258-4c1a-8070-7d9c067198e2"
      },
      "execution_count": 9,
      "outputs": [
        {
          "output_type": "stream",
          "name": "stdout",
          "text": [
            "a AND b: False\n",
            "a OR b: True\n",
            "NOT a: False\n"
          ]
        }
      ]
    },
    {
      "cell_type": "markdown",
      "source": [
        "Write a Python program to convert user input from string to integer, float, and boolean types"
      ],
      "metadata": {
        "id": "jUlK-7v0BVWi"
      }
    },
    {
      "cell_type": "code",
      "source": [
        "user_input = input(\"Enter a value: \")\n",
        "\n",
        "# Converting to different types\n",
        "integer_value = int(user_input)\n",
        "float_value = float(user_input)\n",
        "boolean_value = bool(user_input)\n",
        "\n",
        "print(f\"String: {user_input}\")\n",
        "print(f\"Integer: {integer_value}\")\n",
        "print(f\"Float: {float_value}\")\n",
        "print(f\"Boolean: {boolean_value}\")\n",
        "\n"
      ],
      "metadata": {
        "colab": {
          "base_uri": "https://localhost:8080/"
        },
        "id": "iqjhnOa7Cgef",
        "outputId": "35c38d26-3088-46ef-eb7c-ea0c6ad290a3"
      },
      "execution_count": 31,
      "outputs": [
        {
          "output_type": "stream",
          "name": "stdout",
          "text": [
            "Enter a value: 1\n",
            "String: 1\n",
            "Integer: 1\n",
            "Float: 1.0\n",
            "Boolean: True\n"
          ]
        }
      ]
    },
    {
      "cell_type": "markdown",
      "source": [
        "Write code to demonstrate type casting with list elements"
      ],
      "metadata": {
        "id": "8FPv44s4CnBC"
      }
    },
    {
      "cell_type": "code",
      "source": [
        "my_list = [\"1\", \"2\", \"3.5\", \"True\"]\n",
        "\n",
        "# Converting string elements to respective types\n",
        "int_value = int(my_list[0])\n",
        "float_value = float(my_list[2])\n",
        "bool_value = bool(my_list[3])\n",
        "\n",
        "print(f\"Integer Value: {int_value}\")\n",
        "print(f\"Float Value: {float_value}\")\n",
        "print(f\"Boolean Value: {bool_value}\")\n"
      ],
      "metadata": {
        "colab": {
          "base_uri": "https://localhost:8080/"
        },
        "id": "puzt-IWPCrYz",
        "outputId": "3da688e7-00cc-487d-ffca-e8483903d180"
      },
      "execution_count": 20,
      "outputs": [
        {
          "output_type": "stream",
          "name": "stdout",
          "text": [
            "Integer Value: 1\n",
            "Float Value: 3.5\n",
            "Boolean Value: True\n"
          ]
        }
      ]
    },
    {
      "cell_type": "code",
      "source": [],
      "metadata": {
        "id": "Og3SOIYtCu38"
      },
      "execution_count": null,
      "outputs": []
    },
    {
      "cell_type": "markdown",
      "source": [
        "Write a program that checks if a number is positive, negative, or zero"
      ],
      "metadata": {
        "id": "RkHHWlglC6na"
      }
    },
    {
      "cell_type": "code",
      "source": [
        "number = float(input(\"Enter a number: \"))\n",
        "\n",
        "if number > 0:\n",
        "    print(\"The number is positive.\")\n",
        "elif number < 0:\n",
        "    print(\"The number is negative.\")\n",
        "else:\n",
        "    print(\"The number is zero.\")\n"
      ],
      "metadata": {
        "colab": {
          "base_uri": "https://localhost:8080/"
        },
        "id": "XXl-gaR-C7f6",
        "outputId": "03d9b772-c9bf-4f8f-c74d-c29539c8fa47"
      },
      "execution_count": 21,
      "outputs": [
        {
          "output_type": "stream",
          "name": "stdout",
          "text": [
            "Enter a number: 1\n",
            "The number is positive.\n"
          ]
        }
      ]
    },
    {
      "cell_type": "code",
      "source": [],
      "metadata": {
        "id": "c3ZSSzKxDEoh"
      },
      "execution_count": null,
      "outputs": []
    },
    {
      "cell_type": "markdown",
      "source": [
        "Write a for loop to print numbers from 1 to 10"
      ],
      "metadata": {
        "id": "8Z8hSpXwDHT6"
      }
    },
    {
      "cell_type": "code",
      "source": [
        "for i in range(1, 10):\n",
        "    print(i)\n"
      ],
      "metadata": {
        "colab": {
          "base_uri": "https://localhost:8080/"
        },
        "id": "e11WVXrADIN_",
        "outputId": "002e9a59-467b-4586-8421-e45f4540fe1f"
      },
      "execution_count": 26,
      "outputs": [
        {
          "output_type": "stream",
          "name": "stdout",
          "text": [
            "1\n",
            "2\n",
            "3\n",
            "4\n",
            "5\n",
            "6\n",
            "7\n",
            "8\n",
            "9\n"
          ]
        }
      ]
    },
    {
      "cell_type": "code",
      "source": [],
      "metadata": {
        "id": "volRHt1UDJ44"
      },
      "execution_count": null,
      "outputs": []
    },
    {
      "cell_type": "markdown",
      "source": [
        "Write a Python program to find the sum of all even numbers between 1 and 50"
      ],
      "metadata": {
        "id": "QBXQfv76DYxK"
      }
    },
    {
      "cell_type": "code",
      "source": [
        "even_sum = 0\n",
        "for i in range(1, 50):\n",
        "    if i % 2 == 0:\n",
        "        even_sum += i\n",
        "\n",
        "print(\"Sum of even numbers between 1 and 50:\", even_sum)\n"
      ],
      "metadata": {
        "colab": {
          "base_uri": "https://localhost:8080/"
        },
        "id": "Xz9tMEEhDZzF",
        "outputId": "393cf3c0-d431-421a-ec93-e58df19f940e"
      },
      "execution_count": 27,
      "outputs": [
        {
          "output_type": "stream",
          "name": "stdout",
          "text": [
            "Sum of even numbers between 1 and 50: 600\n"
          ]
        }
      ]
    },
    {
      "cell_type": "code",
      "source": [],
      "metadata": {
        "id": "z_85Qv0DDfba"
      },
      "execution_count": null,
      "outputs": []
    },
    {
      "cell_type": "markdown",
      "source": [
        "Write a program to reverse a string using a while loop"
      ],
      "metadata": {
        "id": "ORgsL5JNDjsq"
      }
    },
    {
      "cell_type": "code",
      "source": [
        "string = input(\"Enter a string to reverse: \")\n",
        "reversed_string = \"\"\n",
        "i = len(string) - 1\n",
        "\n",
        "while i >= 0:\n",
        "    reversed_string += string[i]\n",
        "    i -= 1\n",
        "\n",
        "print(\"Reversed string:\", reversed_string)\n"
      ],
      "metadata": {
        "colab": {
          "base_uri": "https://localhost:8080/"
        },
        "id": "Rz76LGCADlUQ",
        "outputId": "aed4a5ed-989d-4332-c177-f5bf9c48739d"
      },
      "execution_count": 28,
      "outputs": [
        {
          "output_type": "stream",
          "name": "stdout",
          "text": [
            "Enter a string to reverse: 1\n",
            "Reversed string: 1\n"
          ]
        }
      ]
    },
    {
      "cell_type": "code",
      "source": [],
      "metadata": {
        "id": "KBoMPz6ZDpGC"
      },
      "execution_count": 28,
      "outputs": []
    },
    {
      "cell_type": "markdown",
      "source": [
        "Write a Python program to calculate the factorial of a number provided by the user using a while loop."
      ],
      "metadata": {
        "id": "XydfiKnjDt2h"
      }
    },
    {
      "cell_type": "code",
      "source": [
        "number = int(input(\"Enter a number to find its factorial: \"))\n",
        "factorial = 1\n",
        "i = 1\n",
        "\n",
        "while i <= number:\n",
        "    factorial *= i\n",
        "    i += 1\n",
        "\n",
        "print(f\"Factorial of {number} is {factorial}\")\n"
      ],
      "metadata": {
        "colab": {
          "base_uri": "https://localhost:8080/"
        },
        "id": "TNo0pJScDvzt",
        "outputId": "6c054cfa-3275-4b5d-dfc3-3e263c00810d"
      },
      "execution_count": 30,
      "outputs": [
        {
          "output_type": "stream",
          "name": "stdout",
          "text": [
            "Enter a number to find its factorial: 1\n",
            "Factorial of 1 is 1\n"
          ]
        }
      ]
    },
    {
      "cell_type": "code",
      "source": [],
      "metadata": {
        "id": "HE9jr4zWDyWi"
      },
      "execution_count": 29,
      "outputs": []
    }
  ]
}