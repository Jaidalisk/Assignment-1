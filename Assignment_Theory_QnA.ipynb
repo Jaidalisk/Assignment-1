{
  "nbformat": 4,
  "nbformat_minor": 0,
  "metadata": {
    "colab": {
      "provenance": []
    },
    "kernelspec": {
      "name": "python3",
      "display_name": "Python 3"
    },
    "language_info": {
      "name": "python"
    }
  },
  "cells": [
    {
      "cell_type": "code",
      "execution_count": null,
      "metadata": {
        "id": "Rc7NvsbwEvnR"
      },
      "outputs": [],
      "source": []
    },
    {
      "cell_type": "markdown",
      "source": [
        "1. What is Python, and why is it popular?\n",
        "\n",
        "- Python is a high-level, interpreted programming language known for its simplicity and readability. It is popular because of its ease of learning, large community, and wide range of applications from web development to machine learning."
      ],
      "metadata": {
        "id": "-za-C0rqExG9"
      }
    },
    {
      "cell_type": "code",
      "source": [],
      "metadata": {
        "id": "nIthcREUE2IE"
      },
      "execution_count": null,
      "outputs": []
    },
    {
      "cell_type": "markdown",
      "source": [
        "2. What is an interpreter in Python?\n",
        "\n",
        "- An interpreter in Python reads and executes Python code line by line, converting it into machine code that the computer can understand, making Python an interpreted language."
      ],
      "metadata": {
        "id": "ADq5jfYlE2qK"
      }
    },
    {
      "cell_type": "code",
      "source": [],
      "metadata": {
        "id": "W4LTpdCRFFFE"
      },
      "execution_count": null,
      "outputs": []
    },
    {
      "cell_type": "markdown",
      "source": [
        "3. What are pre-defined keywords in Python?\n",
        "\n",
        "- Pre-defined keywords in Python are reserved words with a specific meaning and cannot be used as identifiers (such as if, else, while, def, etc.)."
      ],
      "metadata": {
        "id": "RcwwJRA8FF2J"
      }
    },
    {
      "cell_type": "code",
      "source": [],
      "metadata": {
        "id": "ZkmVR_2kFKK-"
      },
      "execution_count": null,
      "outputs": []
    },
    {
      "cell_type": "markdown",
      "source": [
        "4. Can keywords be used as variable names?\n",
        "\n",
        "- No, keywords cannot be used as variable names because they are reserved for special purposes in the language.\n",
        "\n"
      ],
      "metadata": {
        "id": "hmELb-9UFLKh"
      }
    },
    {
      "cell_type": "code",
      "source": [],
      "metadata": {
        "id": "rHMwySy0FSNU"
      },
      "execution_count": null,
      "outputs": []
    },
    {
      "cell_type": "markdown",
      "source": [
        "5. What is mutability in Python?\n",
        "\n",
        "- Mutability in Python refers to whether an object can be changed after it is created. Mutable objects (like lists) can be modified, while immutable objects (like tuples) cannot."
      ],
      "metadata": {
        "id": "fmgqVtRWFTRb"
      }
    },
    {
      "cell_type": "code",
      "source": [],
      "metadata": {
        "id": "Ilpocz43FXCb"
      },
      "execution_count": null,
      "outputs": []
    },
    {
      "cell_type": "markdown",
      "source": [
        "6. Why are lists mutable, but tuples are immutable?\n",
        "\n",
        "- Lists are mutable because they are designed to be modified, while tuples are immutable to ensure the integrity and consistency of the data they hold."
      ],
      "metadata": {
        "id": "LvxivWQ9Fa7z"
      }
    },
    {
      "cell_type": "code",
      "source": [],
      "metadata": {
        "id": "lnn0tWwQFc5q"
      },
      "execution_count": null,
      "outputs": []
    },
    {
      "cell_type": "markdown",
      "source": [
        "7. What is the difference between “==” and “is” operators in Python?\n",
        "\n",
        "- The == operator checks if two objects have the same value, while the is operator checks if two objects reference the same memory location (i.e., they are the same object)."
      ],
      "metadata": {
        "id": "curDrBMGFfm6"
      }
    },
    {
      "cell_type": "code",
      "source": [],
      "metadata": {
        "id": "1ubdlXCTFjoh"
      },
      "execution_count": null,
      "outputs": []
    },
    {
      "cell_type": "markdown",
      "source": [
        "8. What are logical operators in Python?\n",
        "- Logical operators in Python include and, or, and not, which are used to combine or negate boolean conditions."
      ],
      "metadata": {
        "id": "QC9LsoxrFk66"
      }
    },
    {
      "cell_type": "code",
      "source": [],
      "metadata": {
        "id": "lO2Hr_p_Fo61"
      },
      "execution_count": null,
      "outputs": []
    },
    {
      "cell_type": "markdown",
      "source": [
        "9. What is type casting in Python?\n",
        "- Type casting in Python is the process of converting one data type to another, such as converting a string to an integer or a float to an integer."
      ],
      "metadata": {
        "id": "Xo2Az9IOFrl7"
      }
    },
    {
      "cell_type": "code",
      "source": [],
      "metadata": {
        "id": "8ApTra-mFuFw"
      },
      "execution_count": null,
      "outputs": []
    },
    {
      "cell_type": "markdown",
      "source": [
        "10. What is the difference between implicit and explicit type casting?\n",
        "\n",
        "- Implicit type casting (or coercion) is automatically done by Python when converting types, while explicit type casting requires the programmer to manually convert a value using functions like int() or float()."
      ],
      "metadata": {
        "id": "Xl0GVLesFuwD"
      }
    },
    {
      "cell_type": "code",
      "source": [],
      "metadata": {
        "id": "abNn47SOFz2t"
      },
      "execution_count": null,
      "outputs": []
    },
    {
      "cell_type": "markdown",
      "source": [
        "11. What is the purpose of conditional statements in Python?\n",
        "\n",
        "- Conditional statements in Python allow the program to execute certain blocks of code based on whether a given condition is true or false, enabling decision-making."
      ],
      "metadata": {
        "id": "TkkUFMPrF4jS"
      }
    },
    {
      "cell_type": "code",
      "source": [],
      "metadata": {
        "id": "th-IK5ELF6jb"
      },
      "execution_count": null,
      "outputs": []
    },
    {
      "cell_type": "markdown",
      "source": [
        "12. How does the elif statement work?\n",
        "\n",
        "- The elif (else if) statement checks additional conditions if the previous if or elif conditions were false, allowing multiple conditions to be tested."
      ],
      "metadata": {
        "id": "mtjjl5i8F_2y"
      }
    },
    {
      "cell_type": "code",
      "source": [],
      "metadata": {
        "id": "ZjuAA4IoGBoY"
      },
      "execution_count": null,
      "outputs": []
    },
    {
      "cell_type": "markdown",
      "source": [
        "13. What is the difference between for and while loops?\n",
        "\n",
        "- A for loop is used for iterating over a sequence (like a list or range), while a while loop continues executing as long as a condition is true."
      ],
      "metadata": {
        "id": "oQ55qvxAGCPS"
      }
    },
    {
      "cell_type": "code",
      "source": [],
      "metadata": {
        "id": "cB6GB3r5GHDc"
      },
      "execution_count": null,
      "outputs": []
    },
    {
      "cell_type": "markdown",
      "source": [
        "14. Describe a scenario where a while loop is more suitable than a for loop.\n",
        "\n",
        "- A while loop is more suitable when the number of iterations is not known in advance, such as when you need to keep asking for user input until a valid response is given."
      ],
      "metadata": {
        "id": "DO3OtqD0GH1T"
      }
    },
    {
      "cell_type": "code",
      "source": [],
      "metadata": {
        "id": "R8jlT5O2GMqK"
      },
      "execution_count": null,
      "outputs": []
    }
  ]
}